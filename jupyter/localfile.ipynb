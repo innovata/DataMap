{
 "cells": [
  {
   "cell_type": "code",
   "execution_count": 2,
   "metadata": {},
   "outputs": [],
   "source": [
    "import os\n",
    "import sys\n",
    "PJT_PATH = f\"{os.environ['HOME']}/pjts/datamap\"\n",
    "sys.path.append(PJT_PATH)\n",
    "import platform\n",
    "v = platform.python_version_tuple()\n",
    "sys.path.append(f\"{PJT_PATH}/env/lib/python{v[0]}.{v[1]}/site-packages\")\n",
    "os.environ['LOG_PATH'] = f\"{PJT_PATH}/log/jupyter.localfile\"\n",
    "from utest import testenv"
   ]
  },
  {
   "cell_type": "code",
   "execution_count": 5,
   "metadata": {},
   "outputs": [],
   "source": [
    "import datamap\n",
    "# ============================================================ Python.\n",
    "from importlib import reload\n",
    "# from datetime import datetime\n",
    "# ============================================================ External-Library.\n",
    "# import seaborn as sns\n",
    "import pandas as pd\n",
    "# from bs4 import BeautifulSoup\n",
    "# ============================================================ My-Library.\n",
    "import idebug as dbg\n",
    "# import imatplotlib as mpl\n",
    "# from imatplotlib import line\n",
    "# from imatplotlib import histo\n",
    "# import ipandas as ipd\n",
    "# import iipython\n",
    "# ============================================================ Project.\n",
    "from datamap import localfile"
   ]
  },
  {
   "cell_type": "code",
   "execution_count": 19,
   "metadata": {},
   "outputs": [
    {
     "name": "stdout",
     "output_type": "stream",
     "text": [
      "@@@@@@@@@@@@@@@@@@@@@@@@@@@@@@@@@@@@@@@@@@@@@@@@@@ datamap.localFile\n",
      "\n",
      "-------------------------------------------------- i:1\n",
      "/Users/sambong/Tech/Programming-Collective-Intelligence__2007\n",
      "/Users/sambong/Tech/Programming Collective Intelligence__2007\n"
     ]
    }
   ],
   "source": [
    "reload(localfile)\n",
    "localfile.remove_dash_from_dirname(\"/Users/sambong/Tech\")"
   ]
  },
  {
   "cell_type": "code",
   "execution_count": null,
   "metadata": {},
   "outputs": [],
   "source": []
  }
 ],
 "metadata": {
  "kernelspec": {
   "display_name": "Python 3",
   "language": "python",
   "name": "python3"
  },
  "language_info": {
   "codemirror_mode": {
    "name": "ipython",
    "version": 3
   },
   "file_extension": ".py",
   "mimetype": "text/x-python",
   "name": "python",
   "nbconvert_exporter": "python",
   "pygments_lexer": "ipython3",
   "version": "3.7.2"
  }
 },
 "nbformat": 4,
 "nbformat_minor": 2
}
