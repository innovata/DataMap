{
 "cells": [
  {
   "cell_type": "code",
   "execution_count": 1,
   "metadata": {},
   "outputs": [],
   "source": [
    "\n",
    "\n",
    "mg_client = MongoClient()\n",
    "import inspect\n",
    "import pprint\n",
    "pp = pprint.PrettyPrinter(indent=2)\n",
    "\n",
    "\n",
    "import sys\n",
    "sys.path.append('/Users/sambong/p/lib/')\n",
    "import __pymongo as mg\n",
    "\n",
    "\n",
    "from datamap import *\n",
    "db = mg_client[DB]"
   ]
  },
  {
   "cell_type": "code",
   "execution_count": 2,
   "metadata": {},
   "outputs": [],
   "source": [
    "# jupyter 전용\n",
    "from bson.objectid import ObjectId"
   ]
  },
  {
   "cell_type": "code",
   "execution_count": 3,
   "metadata": {},
   "outputs": [],
   "source": [
    "from collector import (\n",
    "    분류값li의_단어명칭_변경,\n",
    "    insert_분류명_분류값li,\n",
    "    insert_대상_분류값li,\n",
    "    insert_대표어_동의어li,\n",
    ")\n",
    "#from collect_tbl__obj_categ_li import 대상_분류값li_삽입"
   ]
  },
  {
   "cell_type": "code",
   "execution_count": 8,
   "metadata": {},
   "outputs": [
    {
     "data": {
      "text/plain": [
       "\"\\ndb[tbl].update_one(\\n    {'_id':ObjectId('5b34c786b94e315d511cb8c9')},\\n#    {'분류값li':{'regex':'R '}},\\n    {'$push':{'분류값li':'소프트웨어 개발'}}\\n)\\n\\nmg.테이블의_중복제거(DB, tbl, subset=['분류명'])\\nmg.테이블의_특정_컬럼값이_리스트형인_경우_리스트를_중복제거(DB, tbl, '분류값li')\\nmg.테이블의_백업csv_생성(DB, tbl, DATA_PATH)\\n\""
      ]
     },
     "execution_count": 8,
     "metadata": {},
     "output_type": "execute_result"
    }
   ],
   "source": [
    "tbl = '분류명_분류값li_맵'\n",
    """"\n",
    "db[tbl].update_one(\n",
    "    {'_id':ObjectId('5b34c786b94e315d511cb8c9')},\n",
    "#    {'분류값li':{'regex':'R '}},\n",
    "    {'$push':{'분류값li':'소프트웨어 개발'}}\n",
    ")\n",
    "\n",
    "mg.테이블의_중복제거(DB, tbl, subset=['분류명'])\n",
    "mg.테이블의_특정_컬럼값이_리스트형인_경우_리스트를_중복제거(DB, tbl, '분류값li')\n",
    "mg.테이블의_백업csv_생성(DB, tbl, DATA_PATH)\n",
    """""
   ]
  },
  {
   "cell_type": "code",
   "execution_count": 9,
   "metadata": {},
   "outputs": [
    {
     "data": {
      "text/plain": [
       "\"\\ndb[tbl].delete_many(\\n    {'출처':{'$regex':'file:///Users/sambong/내자료/ebook', '$options':'i'}}\\n#    {'대상명':{'$regex':'edx__','$options':'i'}},\\n#    {'_id': ObjectId('5b3679a1b94e315d511cba05')},\\n#    {'대상명':{'$regex':'D3.js : Data-Driven Documents','$options':'i'}},\\n#    {'분류값li':{'$in':[None]}},\\n#    {'$set':{'대상명':'An introduction to Python__Edwin J. Son__기관(National Institute for Mathematical Sciences)'}},\\n)\\n\\nmg.테이블의_중복제거(DB, tbl, subset=['대상명','출처'])\\nmg.테이블의_특정_컬럼값이_리스트형인_경우_리스트를_중복제거(DB, tbl, '분류값li')\\nmg.테이블의_백업csv_생성(DB, tbl, DATA_PATH)\\n\""
      ]
     },
     "execution_count": 9,
     "metadata": {},
     "output_type": "execute_result"
    }
   ],
   "source": [
    "tbl = '대상_분류값li'\n",
    """"\n",
    "db[tbl].delete_many(\n",
    "    {'출처':{'$regex':'file:///Users/sambong/내자료/ebook', '$options':'i'}}\n",
    "#    {'대상명':{'$regex':'edx__','$options':'i'}},\n",
    "#    {'_id': ObjectId('5b3679a1b94e315d511cba05')},\n",
    "#    {'대상명':{'$regex':'D3.js : Data-Driven Documents','$options':'i'}},\n",
    "#    {'분류값li':{'$in':[None]}},\n",
    "#    {'$set':{'대상명':'An introduction to Python__Edwin J. Son__기관(National Institute for Mathematical Sciences)'}},\n",
    ")\n",
    "\n",
    "mg.테이블의_중복제거(DB, tbl, subset=['대상명','출처'])\n",
    "mg.테이블의_특정_컬럼값이_리스트형인_경우_리스트를_중복제거(DB, tbl, '분류값li')\n",
    "mg.테이블의_백업csv_생성(DB, tbl, DATA_PATH)\n",
    """""
   ]
  },
  {
   "cell_type": "code",
   "execution_count": 10,
   "metadata": {},
   "outputs": [
    {
     "data": {
      "text/plain": [
       "\"\\ndb[tbl].update_one(\\n    \\n#    {'_id': ObjectId('5b3616a8b94e315d511cb9fa')},\\n#    {'대표어':'개발툴'},\\n#    {'$set':{'대표어':'John Nash'}}\\n)\\n\\nmg.테이블의_중복제거(DB, tbl, subset=['대표어'])\\nmg.테이블의_특정_컬럼값이_리스트형인_경우_리스트를_중복제거(DB, tbl, '동의어li')\\nmg.테이블의_백업csv_생성(DB, tbl, DATA_PATH)\\n\""
      ]
     },
     "execution_count": 10,
     "metadata": {},
     "output_type": "execute_result"
    }
   ],
   "source": [
    "tbl = '대표어_동의어li'\n",
    """"\n",
    "db[tbl].update_one(\n",
    "    \n",
    "#    {'_id': ObjectId('5b3616a8b94e315d511cb9fa')},\n",
    "#    {'대표어':'개발툴'},\n",
    "#    {'$set':{'대표어':'John Nash'}}\n",
    ")\n",
    "\n",
    "mg.테이블의_중복제거(DB, tbl, subset=['대표어'])\n",
    "mg.테이블의_특정_컬럼값이_리스트형인_경우_리스트를_중복제거(DB, tbl, '동의어li')\n",
    "mg.테이블의_백업csv_생성(DB, tbl, DATA_PATH)\n",
    """""
   ]
  },
  {
   "cell_type": "code",
   "execution_count": null,
   "metadata": {},
   "outputs": [],
   "source": []
  }
 ],
 "metadata": {
  "kernelspec": {
   "display_name": "Python 3",
   "language": "python",
   "name": "python3"
  },
  "language_info": {
   "codemirror_mode": {
    "name": "ipython",
    "version": 3
   },
   "file_extension": ".py",
   "mimetype": "text/x-python",
   "name": "python",
   "nbconvert_exporter": "python",
   "pygments_lexer": "ipython3",
   "version": "3.6.4"
  }
 },
 "nbformat": 4,
 "nbformat_minor": 2
}
