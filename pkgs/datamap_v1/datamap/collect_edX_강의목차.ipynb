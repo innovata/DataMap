{
 "cells": [
  {
   "cell_type": "code",
   "execution_count": 1,
   "metadata": {},
   "outputs": [],
   "source": [
    "\n",
    "import requests\n",
    "from bs4 import BeautifulSoup\n",
    "import inspect\n",
    "import pprint\n",
    "pp = pprint.PrettyPrinter(indent=2)\n",
    "\n",
    "mg_client = MongoClient()\n",
    "\n",
    "\n",
    "import sys\n",
    "sys.path.append('/Users/sambong/p/lib/')\n",
    "import mongodb as mg\n",
    "\n",
    "\n",
    "from datamap import *\n",
    "db = mg_client[DB]"
   ]
  },
  {
   "cell_type": "code",
   "execution_count": 30,
   "metadata": {},
   "outputs": [],
   "source": [
    "# 쥬피터 노트북\n",
    "import pandas as pd\n",
    "from pandas.io.json import json_normalize\n",
    "from bson.objectid import ObjectId"
   ]
  },
  {
   "cell_type": "code",
   "execution_count": 4,
   "metadata": {},
   "outputs": [],
   "source": []
  },
  {
   "cell_type": "code",
   "execution_count": 4,
   "metadata": {
    "scrolled": false
   },
   "outputs": [],
   "source": []
  },
  {
   "cell_type": "code",
   "execution_count": 2,
   "metadata": {},
   "outputs": [],
   "source": []
  },
  {
   "cell_type": "code",
   "execution_count": 3,
   "metadata": {},
   "outputs": [],
   "source": []
  },
  {
   "cell_type": "code",
   "execution_count": 1,
   "metadata": {
    "scrolled": false
   },
   "outputs": [],
   "source": [
    "file_path = '/Users/sambong/Downloads/'\n",
    "#tbl = '대상의_분류값_정의'\n",
    "tbl = 'edx'\n",
    "\n",
    "#출처 = 'https://courses.edx.org/courses/course-v1:ColumbiaX+CSMM.101x+1T2018/course/'\n",
    "\n",
    "file_name = 'Course | DSE200x | edX.html'\n",
    "출처 = 'https://courses.edx.org/courses/course-v1:UCSanDiegoX+DSE200x+2T2017/course/'\n",
    "\n",
    "#다운로드한_HTML로부터_목차를_파싱후_저장(출처, file_path, file_name, '대상_분류값li')"
   ]
  }
 ],
 "metadata": {
  "kernelspec": {
   "display_name": "Python 3",
   "language": "python",
   "name": "python3"
  },
  "language_info": {
   "codemirror_mode": {
    "name": "ipython",
    "version": 3
   },
   "file_extension": ".py",
   "mimetype": "text/x-python",
   "name": "python",
   "nbconvert_exporter": "python",
   "pygments_lexer": "ipython3",
   "version": "3.6.4"
  }
 },
 "nbformat": 4,
 "nbformat_minor": 2
}
