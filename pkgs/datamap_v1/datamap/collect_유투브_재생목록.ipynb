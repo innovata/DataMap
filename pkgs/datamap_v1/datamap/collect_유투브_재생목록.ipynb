{
 "cells": [
  {
   "cell_type": "code",
   "execution_count": null,
   "metadata": {},
   "outputs": [],
   "source": [
    "작업 순서\n",
    "1. 수집\n",
    "1.1. 수동으로 HTML다운로드해서 \n",
    "--> A. 유투브 접속\n",
    "--> B. 재생목록으로 이동\n",
    "--> C. 내가 만든 재생목록으로 이동\n",
    "--> D. 모든 재생목록이 보일 때까지 아래로 스크롤 --> 죤나 짜증남\n",
    "1.2. google api의 flask를 이용해서\n",
    "--> A. localhost:8090/ 접속 끝.\n",
    "1.3. google api를 프로그래밍적으로\n",
    "--> 프로그램이 자동으로 매번 수집할 필요성이 있는가? 아닌것 같은데...그럼 이 모듈은 왜 필요하지?\n",
    "2. 파싱\n",
    "3. 저장\n",
    "4. 저장된 원본데이터를 대상_분류값li 테이블에 변환저장"
   ]
  },
  {
   "cell_type": "code",
   "execution_count": 1,
   "metadata": {},
   "outputs": [],
   "source": [
    "\n",
    "from bs4 import BeautifulSoup\n",
    "\n",
    "mg_client = MongoClient()\n",
    "import inspect\n",
    "import pprint\n",
    "pp = pprint.PrettyPrinter(indent=2)\n",
    "\n",
    "\n",
    "import sys\n",
    "sys.path.append('/Users/sambong/p/lib/')\n",
    "import mongodb as mg\n",
    "\n",
    "\n",
    "from datamap import *\n",
    "db = mg_client[DB]"
   ]
  },
  {
   "cell_type": "code",
   "execution_count": 2,
   "metadata": {},
   "outputs": [],
   "source": [
    "# jupyter 전용\n",
    "import pandas as pd\n",
    "from pymongo import ASCENDING, DESCENDING\n",
    "import requests\n",
    "from pandas.io.json import json_normalize\n",
    "from bson.objectid import ObjectId"
   ]
  },
  {
   "cell_type": "code",
   "execution_count": 3,
   "metadata": {},
   "outputs": [],
   "source": [
    "from collect_youtube_playlist import __유투브_리스트를_대상_분류값li로_변환저장"
   ]
  },
  {
   "cell_type": "code",
   "execution_count": 4,
   "metadata": {},
   "outputs": [
    {
     "data": {
      "text/plain": [
       "['대상_분류값li', '대표어_동의어li', '분류명_분류값li_맵', '유투브_리스트', '함수실행로그']"
      ]
     },
     "execution_count": 4,
     "metadata": {},
     "output_type": "execute_result"
    }
   ],
   "source": [
    "#db['유투브_리스트'].drop()\n",
    "sorted(db.collection_names())"
   ]
  },
  {
   "cell_type": "code",
   "execution_count": 6,
   "metadata": {},
   "outputs": [
    {
     "name": "stdout",
     "output_type": "stream",
     "text": [
      "1\n",
      "[ { '_id': ObjectId('5b44d49fdc958f8a41eabee8'),\n",
      "    'id': 'PLP9YOa5MTwu0JmlS2UaKtg1IzpvMHBtU6',\n",
      "    'title': '[제목]Natural Language Processing (NLP)__[내용]Module 1: '\n",
      "             'Introduction to NLP__[출처]edX_Microsoft: DEV288x'}]\n"
     ]
    }
   ],
   "source": [
    "query = {'title':{'$regex':'DEV288x', '$options':'i'}}#{'$and':[{'대상명':{'$regex':'Harvard', '$options':'i'}}, {'출처':{'$regex':'youtube.com'}}]}\n",
    "projection = {'_id':1,'title':1,'id':1}#\n",
    "dicli = list( db['유투브_리스트'].find(query,projection).sort('title',ASCENDING) ) # .limit(1)\n",
    "print(len(dicli))\n",
    "\n",
    "#__보고 \n",
    "import pandas as pd\n",
    "df = pd.DataFrame(dicli)\n",
    "#[print(e) for e in sorted(df['title'])]\n",
    "pp.pprint(dicli)\n",
    "#df"
   ]
  },
  {
   "cell_type": "code",
   "execution_count": null,
   "metadata": {},
   "outputs": [],
   "source": [
    "tbl = '유투브_리스트'\n",
    "#"""\n",
    "db[tbl].delete_one(\n",
    "#    {'출처':{'$regex':'youtube.com/', '$options':'i'}},\n",
    "#    {'대상명':{'$regex':'harvard','$options':'i'}},\n",
    "#    {'_id': ObjectId('5b44d49fdc958f8a41eabef2')},\n",
    "#    {'대상명':{'$regex':'D3.js : Data-Driven Documents','$options':'i'}},\n",
    "#    {'분류값li':{'$in':[None]}},\n",
    "#    {'$set':{'대상명':'Mastering Scientific Computing with R __Gerrard & Johnson__2015.pdf'}},\n",
    ")\n",
    "#"""\n",
    "mg.테이블의_중복제거(DB, tbl, subset=['title','id'])\n",
    "#mg.테이블의_특정_컬럼값이_리스트형인_경우_리스트를_중복제거(DB, tbl, '분류값li')\n",
    "mg.테이블의_백업csv_생성(DB, tbl, DATA_PATH)"
   ]
  }
 ],
 "metadata": {
  "kernelspec": {
   "display_name": "Python 3",
   "language": "python",
   "name": "python3"
  },
  "language_info": {
   "codemirror_mode": {
    "name": "ipython",
    "version": 3
   },
   "file_extension": ".py",
   "mimetype": "text/x-python",
   "name": "python",
   "nbconvert_exporter": "python",
   "pygments_lexer": "ipython3",
   "version": "3.6.4"
  }
 },
 "nbformat": 4,
 "nbformat_minor": 2
}
